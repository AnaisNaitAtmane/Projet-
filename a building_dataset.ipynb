{
 "cells": [
  {
   "cell_type": "markdown",
   "metadata": {},
   "source": [
    "# Pre-processing"
   ]
  },
  {
   "cell_type": "markdown",
   "metadata": {},
   "source": [
    "## Import nécessaire"
   ]
  },
  {
   "cell_type": "code",
   "execution_count": 58,
   "metadata": {},
   "outputs": [],
   "source": [
    "# import them\n",
    "import pandas as pd\n",
    "import numpy as np\n",
    "import os\n",
    "import math"
   ]
  },
  {
   "cell_type": "markdown",
   "metadata": {},
   "source": [
    "## Construction du dataset"
   ]
  },
  {
   "cell_type": "markdown",
   "metadata": {},
   "source": [
    "#### Chargement des données"
   ]
  },
  {
   "cell_type": "code",
   "execution_count": 59,
   "metadata": {},
   "outputs": [],
   "source": [
    "#load the data\n",
    "data_folder = \"./data/\"\n",
    "\n",
    "list_of_files = [pd.read_excel(f'{data_folder}{f}') for f in os.listdir(data_folder) if f.endswith('.xlsx')]\n",
    "for i in range(len(list_of_files[0].columns)):\n",
    "    i_column = []\n",
    "    for df in list_of_files:\n",
    "        i_column.append(df.columns[i])\n",
    "    #print all unique values in the list\n",
    "    if len(set(i_column)) > 1:\n",
    "        print(f\"{i_column} has multiple values\")\n",
    "        print(\"\\n\")"
   ]
  },
  {
   "cell_type": "code",
   "execution_count": 60,
   "metadata": {},
   "outputs": [],
   "source": [
    "# merge the dfs\n",
    "df = pd.concat(list_of_files, axis=0, ignore_index=True)"
   ]
  },
  {
   "cell_type": "markdown",
   "metadata": {},
   "source": [
    "#### Elimination des colonnes inutiles"
   ]
  },
  {
   "cell_type": "markdown",
   "metadata": {},
   "source": [
    "## Renommage des entités"
   ]
  },
  {
   "cell_type": "markdown",
   "metadata": {},
   "source": [
    "* colonnes explicite (Ry -> rayon)\n",
    "* label explicites (IR -> infra-rouge)"
   ]
  },
  {
   "cell_type": "code",
   "execution_count": 61,
   "metadata": {},
   "outputs": [],
   "source": [
    "# rename a column\n",
    "df.rename(columns={\"# of Gears\": \"Number of Gears\"}, inplace=True)\n",
    "df.rename(columns={\"# of Cylinders and Rotors\": \"Number of Cylinders and Rotors\"}, inplace=True)\n",
    "df.rename(columns={\"Test Veh Configuration #\": \"Test Veh Configuration\"}, inplace=True)\n",
    "df.rename(columns={\"Transmission Overdrive Desc\": \"Gear Ratio\"}, inplace=True)\n",
    "df.rename(columns={\"Tested Transmission Type\": \"Transmission Type\"}, inplace=True)\n",
    "\n"
   ]
  },
  {
   "cell_type": "code",
   "execution_count": 62,
   "metadata": {},
   "outputs": [
    {
     "name": "stdout",
     "output_type": "stream",
     "text": [
      "Vehicle Manufacturer Name has 51 unique values:\n",
      " ['aston martin' 'Audi' 'Bentley' 'BMW' 'BYD Motors Inc.' 'CSC' 'FCA Italy'\n",
      " 'FCA US LLC' 'Ferrari' 'FOMOCO']...\n",
      "\n",
      "Veh Mfr Code has 50 unique values:\n",
      " ['ASX' 'ADX' 'BEX' 'BMX' 'BYD' 'CSC' 'FTG' 'CRX' 'FEX' 'FMX']...\n",
      "\n",
      "Represented Test Veh Make has 89 unique values:\n",
      " ['Aston Martin' 'AUDI' 'BENTLEY' 'BMW' 'Mini' 'BYD' 'BUICK' 'CADILLAC'\n",
      " 'Fiat' 'Alfa Romeo']...\n",
      "\n",
      "Represented Test Veh Model has 2163 unique values:\n",
      " ['DB11' 'Rapide S' 'V12 Vantage S' 'Vanquish' 'A4' 'Q5' 'RS7' 'S5'\n",
      " 'Continental GT' '230i Convertible']...\n",
      "\n",
      "Test Vehicle ID has 3984 unique values:\n",
      " ['500TT5148' '410TT4202' '288TT2087' '298VP2156' '314TT3175' 'D3UB-BMQ'\n",
      " 'D3UF-Q5A' 'DFUB-Q5A' 'E3UJ-RSQ' 'D3UF-BAQ']...\n",
      "\n",
      "Actual Tested Testgroup has 2218 unique values:\n",
      " ['HASXV05.2AM5' 'FASXV06.0VHB' 'HASXV06.0VHB' 'DADXV02.03UB'\n",
      " 'DADXJ03.03UF' 'DADXT02.04UB' 'DADXJ02.0FUB' 'EADXV04.03UJ'\n",
      " 'DBEXV06.04UC' 'HBMXV02.0B4X']...\n",
      "\n",
      "Vehicle Type has 3 unique values:\n",
      " ['Car' 'Both' 'Truck']...\n",
      "\n",
      "Engine Code has 1737 unique values:\n",
      " ['AE31/' 'AM29/' 'AM28/' 'CAEB' 'CTUC' 'CPMA' 'CRDB' 'CGXC' 'CMM' 'CMMD']...\n",
      "\n",
      "Tested Transmission Type Code has 8 unique values:\n",
      " ['SA' 'M' 'A' 'AMS' 'AM' 'OT' 'CVT' 'SCV']...\n",
      "\n",
      "Transmission Type has 8 unique values:\n",
      " ['Semi-Automatic' 'Manual' 'Automatic'\n",
      " 'Automated Manual- Selectable (e.g. Automated Manual with paddles)'\n",
      " 'Automated Manual' 'Other' 'Continuously Variable'\n",
      " 'Selectable Continuously Variable (e.g. CVT with paddles)']...\n",
      "\n",
      "Transmission Lockup? has 2 unique values:\n",
      " ['Y' 'N']...\n",
      "\n",
      "Drive System Code has 5 unique values:\n",
      " ['R' 'F' 'A' '4' 'P']...\n",
      "\n",
      "Drive System Description has 5 unique values:\n",
      " ['2-Wheel Drive, Rear' '2-Wheel Drive, Front' 'All Wheel Drive'\n",
      " '4-Wheel Drive' 'Part-time 4-Wheel Drive']...\n",
      "\n",
      "Gear Ratio has 2 unique values:\n",
      " ['Top gear ratio < 1' 'No gear ratio < 1']...\n",
      "\n",
      "Shift Indicator Light Use Desc has 4 unique values:\n",
      " ['Not eqipped' 'Equipped, not shifted by SIL'\n",
      " 'Equipped, shifted by survey schedule' 'Equipped, shifted by SIL']...\n",
      "\n",
      "Test Number has 20181 unique values:\n",
      " ['HASX10045047' 'HASX10045048' 'FASX10032202' 'FASX10032203'\n",
      " 'FASX10028338' 'FASX10028339' 'HASX10040550' 'HASX10040551'\n",
      " 'FASX10032317' 'FASX10032318']...\n",
      "\n",
      "Test Originator has 2 unique values:\n",
      " ['MFR' 'EPA']...\n",
      "\n",
      "Analytically Derived FE? has 2 unique values:\n",
      " ['No' 'Yes']...\n",
      "\n",
      "Test Procedure Description has 16 unique values:\n",
      " ['Federal fuel 2-day exhaust (w/can load)' 'HWFE' 'SC03' 'Cold CO' 'US06'\n",
      " 'Federal fuel 3-day exhaust' 'CVS 75 and later (w/o can. load)'\n",
      " 'Charge Depleting UDDS' 'Charge Depleting Highway'\n",
      " 'California fuel 3-day exhaust']...\n",
      "\n",
      "Test Fuel Type Description has 16 unique values:\n",
      " ['Tier 2 Cert Gasoline' 'Cold CO Premium (Tier 2)'\n",
      " 'E85 (85% Ethanol 15% EPA Unleaded Gasoline)'\n",
      " 'Federal Cert Diesel 7-15 PPM Sulfur' 'Electricity'\n",
      " 'Cold CO Premium (CERT)' 'Cold CO Regular (Tier 2)' 'Hydrogen 5'\n",
      " 'CARB Phase II Gasoline' 'Tier 3 E10 Regular Gasoline (9 RVP @Low Alt.)']...\n",
      "\n",
      "Test Category has 5 unique values:\n",
      " ['FTP' 'HWY' 'SC03' 'US06' 'CD']...\n",
      "\n",
      "FE_UNIT has 1 unique values:\n",
      " ['MPG']...\n",
      "\n",
      "Aftertreatment Device Cd has 7 unique values:\n",
      " ['TWC' nan 'SCR' 'DPF' 'NOXAD' 'OC' 'OT']...\n",
      "\n",
      "Aftertreatment Device Desc has 7 unique values:\n",
      " ['Three-way catalyst' nan 'Selective Catalytic Reduction'\n",
      " 'Diesel Particulate Filter' 'NOx Adsorber' 'Oxidation catalyst' 'Other']...\n",
      "\n",
      "Police - Emergency Vehicle? has 2 unique values:\n",
      " ['N' 'Y']...\n",
      "\n",
      "Averaging Method Cd has 2 unique values:\n",
      " ['N' 'H']...\n",
      "\n",
      "Averging Method Desc has 2 unique values:\n",
      " ['No averaging' 'Harmonic averaging (1/(Sum(i=1 to n) (FET(i) / WT(i)))']...\n",
      "\n"
     ]
    }
   ],
   "source": [
    "#on repère les entités en str et on explicite leurs labels\n",
    "for column in df.columns:\n",
    "    if type(df.loc[0, column]) == str:\n",
    "        unique_values = df[column].unique()\n",
    "        print(f\"{column} has {len(unique_values)} unique values:\\n {unique_values[:10]}...\\n\")"
   ]
  },
  {
   "cell_type": "markdown",
   "metadata": {},
   "source": [
    "## Passage en unité plus lisibles"
   ]
  },
  {
   "cell_type": "markdown",
   "metadata": {},
   "source": [
    "* unité internationales\n",
    "* ordinnal -> nombre\n",
    "* nominal -> nombre (Hot Encoding)\n",
    "* modification des types (string -> int ...)\n"
   ]
  },
  {
   "cell_type": "markdown",
   "metadata": {},
   "source": [
    "### unité internationale"
   ]
  },
  {
   "cell_type": "code",
   "execution_count": 63,
   "metadata": {},
   "outputs": [],
   "source": [
    "unit_convert = {\n",
    "    \"miles to kilometer\": 1.60934,\n",
    "    \"lbs to kg\": 0.453592,\n",
    "}\n",
    "\n",
    "df[\"litre pour 100km\"] = df.apply(lambda x: 235.214583/x[\"RND_ADJ_FE\"] if x[\"FE_UNIT\"] == \"MPG\" and x[\"RND_ADJ_FE\"]>0 else 0, axis=1)\n",
    "df[\"Weight (kg)\"] = df[\"Equivalent Test Weight (lbs.)\"]*unit_convert[\"lbs to kg\"]"
   ]
  },
  {
   "cell_type": "code",
   "execution_count": null,
   "metadata": {},
   "outputs": [],
   "source": [
    "# spécifiquement à notre dataset\n",
    "# doing our own research we cam out with:\n",
    "CO2_coef = {\n",
    "    \"Carbon Dioxide\t\": 1,\n",
    "    \"CO2\": 1,\n",
    "    \"Carbon Monoxide\": 1,\n",
    "    \"CO\": 1,\n",
    "    \"Nitrogen Oxides\": 298,\n",
    "    \"NOx\": 298,\n",
    "    \"N2O\": 298,\n",
    "    \n",
    "    \"Methane\": 25,  \n",
    "    \"CH4\": 25,\n",
    "    \"Hydrocarbons\": 1,\n",
    "    \"THC\": 1,\n",
    "}\n",
    "\n",
    "cols = [\"THC (g/mi)\", \"CO (g/mi)\", \"CO2 (g/mi)\", \"NOx (g/mi)\", \"CH4 (g/mi)\", \"N2O (g/mi)\", \"PM (g/mi)\"]\n",
    "for col in cols:\n",
    "    df[col] = df[col].apply(lambda x: 0 if math.isnan(x) else x)\n",
    "    \n",
    "\n",
    "df[\"CO2 (eqg/mi)\"] = df.apply(lambda x:(\n",
    "                              x[\"THC (g/mi)\"]*CO2_coef[\"THC\"]+\n",
    "                              x[\"CO (g/mi)\"]*CO2_coef[\"CO\"]+\n",
    "                              x[\"CO2 (g/mi)\"]*CO2_coef[\"CO2\"]+\n",
    "                              x[\"NOx (g/mi)\"]*CO2_coef[\"NOx\"]+\n",
    "                              x[\"CH4 (g/mi)\"]*CO2_coef[\"CH4\"]+\n",
    "                              x[\"N2O (g/mi)\"]*CO2_coef[\"N2O\"])\n",
    "                              , axis=1)\n",
    "\n",
    "df[\"grammes equivalent CO2/km\"] = df[\"CO2 (eqg/mi)\"]*unit_convert[\"miles to kilometer\"]\n",
    "\n",
    "# dans notre cas on se permet d'enlever les colonnes\n",
    "df.drop(columns=[\"THC (g/mi)\", \"CO (g/mi)\", \"CO2 (g/mi)\", \"NOx (g/mi)\", \"CH4 (g/mi)\", \"N2O (g/mi)\", \"PM (g/mi)\", \"CO2 (eqg/mi)\"], inplace=True)"
   ]
  },
  {
   "cell_type": "markdown",
   "metadata": {},
   "source": [
    "### Ordinal"
   ]
  },
  {
   "cell_type": "code",
   "execution_count": 65,
   "metadata": {},
   "outputs": [],
   "source": [
    "df[\"Fuel type\"] = df[\"Test Fuel Type Description\"].apply(lambda x: \n",
    "    \"Electricity\" if \"Electricity\" in x else\n",
    "    \"Hydrogen\" if \"Hydrogen\" in x else \n",
    "    \"E85\" if \"E85\" in x else \n",
    "    \"Diesel Cold\" if \"Cold\" in x and \"Diesel\" in x else \n",
    "    \"Diesel\" if \"Diesel\" in x else \n",
    "    \"E10 Premium Cold\" if \"Cold\" in x and \"E10\" in x and \"Premium\" else\n",
    "    \"E10 Regular Cold\" if \"Cold\" in x and \"E10\" in x and \"Regular\" else\n",
    "    \"E10 Premium\" if \"E10 Premium\" in x or \"\" in x else\n",
    "    \"E10 Regular\")\n",
    "# on base cet ordinalité sur le densité énergétique et le rendement moyen (TODO: ajouter le rendement dans l'ordinalité)\n",
    "fuel_cat_to_num = {\"Hydrogen\":1, \"E85\":2, \"E10 Premium Cold\":3, \"E10 Premium\":4, \"Diesel Cold\":5, \"Diesel\":6, \"Electricity\":7}\n",
    "df[\"Fuel type\"] = df[\"Fuel type\"].apply(lambda x: fuel_cat_to_num[x])\n",
    "\n",
    "\n",
    "df[\"Rear Type\"] = df[\"Drive System Description\"].apply(lambda x:\n",
    "    \"Both\" if \"Partime\" in x else\n",
    "    \"front\" if \"Front\" in x else\n",
    "    \"back\" if \"Rear\" in x else\n",
    "    \"4WD\")\n",
    "rear_type_cat_to_num = {\"Both\": 0.5, \"front\": 0, \"back\": 0.1, \"4WD\": 1}\n",
    "df[\"Rear Type\"] = df[\"Rear Type\"].apply(lambda x: rear_type_cat_to_num[x])\n",
    "\n",
    "\n",
    "df[\"Number of wheel\"] = df[\"Drive System Description\"].apply(lambda x:\n",
    "    2 if \"2\" in x else\n",
    "    4 if \"4\" in x else\n",
    "    0.5 if \"Part\" in x else\n",
    "    4)\n",
    "\n",
    "df[\"Equivalent Test Weight (kg)\"] = df[\"Equivalent Test Weight (lbs.)\"].replace(',', '', regex=True)\n",
    "\n",
    "\n",
    "\n",
    "gear_ratio_cat_to_num = {\"Top gear ratio < 1\": 0, \"No gear ratio < 1\": 1}\n",
    "df[\"Gear ratio\"] = df[\"Gear Ratio\"].apply(lambda x: gear_ratio_cat_to_num[x])\n",
    "\n",
    "\n",
    "df.drop(columns=[\"Equivalent Test Weight (lbs.)\", \"RND_ADJ_FE\", \"FE_UNIT\", \"Test Fuel Type Description\", \"Drive System Description\"], inplace=True)\n"
   ]
  },
  {
   "cell_type": "markdown",
   "metadata": {},
   "source": [
    "### Nominal"
   ]
  },
  {
   "cell_type": "code",
   "execution_count": 66,
   "metadata": {},
   "outputs": [],
   "source": [
    "#nominal à numéro\n",
    "from sklearn.preprocessing import OneHotEncoder\n",
    "\n",
    "def mean_encoding(df, col):\n",
    "    mean_encoding = df.groupby(col)['litre pour 100km'].mean()\n",
    "    df[f\"{col} Mean Encoding\"] = df[col].map(mean_encoding)\n",
    "    return df   \n",
    "\n",
    "def onehotencoding(df, col):\n",
    "    encoder = OneHotEncoder(sparse_output=False)\n",
    "    encoded_features = encoder.fit_transform(df[[col]])\n",
    "    encoded_df = pd.DataFrame(encoded_features, columns=encoder.get_feature_names_out([col]))\n",
    "    # Fusion des données encodées avec le DataFrame original\n",
    "    df_encoded = pd.concat([df.drop(columns=[col]), encoded_df], axis=1)\n",
    "    return df_encoded\n",
    "\n",
    "df = mean_encoding(df, \"Veh Mfr Code\")\n",
    "df = mean_encoding(df, \"Transmission Type\")\n",
    "df = onehotencoding(df, \"Rear Type\")"
   ]
  },
  {
   "cell_type": "markdown",
   "metadata": {},
   "source": [
    "### Type de variables"
   ]
  },
  {
   "cell_type": "code",
   "execution_count": 67,
   "metadata": {},
   "outputs": [],
   "source": [
    "df[\"grammes equivalent CO2/km\"] = df[\"grammes equivalent CO2/km\"].astype(float)\n",
    "df[\"Weight (kg)\"] = df[\"Weight (kg)\"].astype(float)"
   ]
  },
  {
   "cell_type": "markdown",
   "metadata": {},
   "source": [
    "## Save result"
   ]
  },
  {
   "cell_type": "code",
   "execution_count": 68,
   "metadata": {},
   "outputs": [
    {
     "data": {
      "text/plain": [
       "Index(['Model Year', 'Test Veh Configuration', 'Test Veh Displacement (L)',\n",
       "       'Rated Horsepower', 'Number of Cylinders and Rotors', 'Number of Gears',\n",
       "       'Transmission Overdrive Code', 'Axle Ratio', 'N/V Ratio',\n",
       "       'Shift Indicator Light Use Cd', 'ADFE Total Road Load HP',\n",
       "       'ADFE Equiv. Test Weight (lbs.)', 'ADFE N/V Ratio', 'Test Procedure Cd',\n",
       "       'Test Fuel Type Cd', 'FE Bag 1', 'FE Bag 2', 'FE Bag 3', 'FE Bag 4',\n",
       "       'DT-Inertia Work Ratio Rating', 'DT-Absolute Speed Change Ratg',\n",
       "       'DT-Energy Economy Rating', 'Target Coef A (lbf)',\n",
       "       'Target Coef B (lbf/mph)', 'Target Coef C (lbf/mph**2)',\n",
       "       'Set Coef A (lbf)', 'Set Coef B (lbf/mph)', 'Set Coef C (lbf/mph**2)',\n",
       "       'Averaging Weighting Factor', 'litre pour 100km', 'Weight (kg)',\n",
       "       'CO2 (eqg/mi)', 'grammes equivalent CO2/km', 'Fuel type',\n",
       "       'Number of wheel', 'Equivalent Test Weight (kg)', 'Gear ratio',\n",
       "       'Veh Mfr Code Mean Encoding', 'Transmission Type Mean Encoding',\n",
       "       'Rear Type_0.0', 'Rear Type_0.1', 'Rear Type_1.0'],\n",
       "      dtype='object')"
      ]
     },
     "execution_count": 68,
     "metadata": {},
     "output_type": "execute_result"
    }
   ],
   "source": [
    "# keep only numerical columns\n",
    "df = df.select_dtypes(include=[np.number])\n",
    "df.columns"
   ]
  },
  {
   "cell_type": "code",
   "execution_count": 70,
   "metadata": {},
   "outputs": [],
   "source": [
    "df.to_csv(\"./results/df_builded.csv\", index=False)"
   ]
  },
  {
   "cell_type": "markdown",
   "metadata": {},
   "source": [
    "a l'issu de ce jupyter, le jeu de donnée est:\n",
    "* composé uniquement de nombres (int, float)\n",
    "* complet\n",
    "* lisible"
   ]
  }
 ],
 "metadata": {
  "kernelspec": {
   "display_name": ".venv",
   "language": "python",
   "name": "python3"
  },
  "language_info": {
   "codemirror_mode": {
    "name": "ipython",
    "version": 3
   },
   "file_extension": ".py",
   "mimetype": "text/x-python",
   "name": "python",
   "nbconvert_exporter": "python",
   "pygments_lexer": "ipython3",
   "version": "3.11.9"
  }
 },
 "nbformat": 4,
 "nbformat_minor": 2
}
